{
 "cells": [
  {
   "cell_type": "code",
   "execution_count": 17,
   "metadata": {
    "ExecuteTime": {
     "end_time": "2024-03-27T11:47:02.084720100Z",
     "start_time": "2024-03-27T11:47:02.079895200Z"
    }
   },
   "outputs": [],
   "source": [
    "import sympy as sym\n",
    "from IPython.display import display_latex\n",
    "from IPython.display import Latex,Math,display\n",
    "import numpy as np\n",
    "from functools import reduce\n",
    "\n",
    "sym.init_printing()"
   ]
  },
  {
   "cell_type": "markdown",
   "metadata": {},
   "source": [
    "**定理**\n",
    "\n",
    "**如果 $T$ 是代数闭域 $\\mathbb{F}$ 上向量空间 $V$ 的线性自同态映射，那么存在一个基，使得 $T$ 的矩阵表示为 Jordan 标准形。**\n",
    "\n",
    "**算法 JNF：符号 Jordan 标准形**\n",
    "\n",
    "**输入：$A\\in\\mathbb{C}^{n\\times n}$**\n",
    "\n",
    "**输出：$J\\in\\mathbb{C}^{n\\times n}$，其中 $J$ 是 $A$ 的 Jordan 标准形**\n",
    "\n",
    "1. 找到所有具有代数重数 $m_1,\\cdots,m_N$ 的特征值 $\\lambda_1,\\cdots,\\lambda_N$，使得 $\\sum_{k=1}^N m_k=n$\n",
    "2. 确定所有特征空间 $E(\\lambda_k,A)$ 和广义特征空间 $E^{\\textbf{gen}}(\\lambda_k, A)$ 作为 $(A-\\lambda_k I)$ 和 $(A-\\lambda_k I)^{m_k}$ 的零空间。\n",
    "3. **对于** $k$ **从** $1$ **到** $N$:\n",
    "4. $\\quad\\quad$找到 $C$ 使得 $E^{\\textbf{gen}}(\\lambda_k, A)=E(\\lambda_k, A)\\oplus C$，设 $S=E(\\lambda_k, A)$，$i=1$\n",
    "5. $\\quad\\quad$**当** $C\\ne \\left\\{0\\right\\}$ **时**:\n",
    "6. $\\quad\\quad\\quad\\quad$找到 $C$ 中的一个向量 $v$，使得 $v$ 不在 $(A-\\lambda_k I)$ 的列空间中\n",
    "7. $\\quad\\quad\\quad\\quad$**执行**:\n",
    "8. $\\quad\\quad\\quad\\quad\\quad\\quad v\\leftarrow (A-\\lambda_k I)v$\n",
    "9. $\\quad\\quad\\quad\\quad$**直到** $v\\in E(\\lambda_k,A)$\n",
    "10. $\\quad\\quad\\quad\\quad$将第 6 行和第 8 行中的所有 $v$ 记为 $v_{1i}^{(k)},\\cdots,v_{ji}^{(k)},\\cdots$ \n",
    "（先生成的 $v$ 有较大的索引 $j$）\n",
    "11. $\\quad\\quad\\quad\\quad$找到 $S',C'$ 使得 $S=\\text{span}(v_{1i}^{(k)})\\oplus S'$ 和 $C=\\text{span}(v_{2i}^{(k)},\\cdots,v_{ji}^{(k)},\\cdots)\\oplus C'$\n",
    "12. $\\quad\\quad\\quad\\quad S\\leftarrow S',\\ C\\leftarrow C'$\n",
    "13. $\\quad\\quad\\quad\\quad i\\leftarrow i+1$\n",
    "14. $\\quad\\quad$**如果** $S\\ne\\left\\{0\\right\\}$:\n",
    "15. $\\quad\\quad\\quad\\quad$将 $S$ 的基记为 $v_{1i}^{(k)},\\cdots,v_{1m_k}^{(k)}$\n",
    "16. 设 $P$ 为一个矩阵，其列为 $v_{11}^{(1)},\\cdots,v_{j1}^{(1)},\\cdots,v_{12}^{(1)},\\cdots,v_{j2}^{(1)},\\cdots,v_{ji}^{(1)},\\cdots, v_{ji}^{(2)},\\cdots,v_{ji}^{(k)},\\cdots$\n",
    "17. **返回** $J=P^{-1}AP$"
   ]
  },
  {
   "cell_type": "code",
   "execution_count": 18,
   "metadata": {
    "ExecuteTime": {
     "end_time": "2024-03-27T11:47:02.106213600Z",
     "start_time": "2024-03-27T11:47:02.105704200Z"
    }
   },
   "outputs": [],
   "source": [
    "def ColumnContact(M):\n",
    "    \"\"\"将列向量列表拼接成一个矩阵\"\"\"\n",
    "    m = M.copy()\n",
    "    r = m[0]\n",
    "    for i in range(1,len(m)):\n",
    "        r = r.row_join(m[i])\n",
    "    return r\n",
    "\n",
    "def is_in_space(space,v):\n",
    "    \"\"\"判断向量 v 是否在空间 space 中\"\"\"\n",
    "    S = space.copy()\n",
    "    vect = v.copy()\n",
    "    dim_S = len(S)\n",
    "    S.append(vect)\n",
    "    if ColumnContact(S).rank() > dim_S:\n",
    "        return False\n",
    "    return True\n",
    "\n",
    "def complementary(g,s):\n",
    "    \"\"\"找到 r 使得 g 是 s 和 r 的直和\"\"\"\n",
    "    G = g.copy()\n",
    "    S = s.copy()\n",
    "    dim_diff = len(G) - len(S)\n",
    "    R = []\n",
    "    for vect in G:\n",
    "        if len(R) == dim_diff:\n",
    "            return R\n",
    "        if not is_in_space(S,vect):\n",
    "            R.append(vect)\n",
    "    return R\n",
    "        \n",
    "def JordanForm_analysis(A, opt):\n",
    "    \"\"\"用分析方法计算矩阵 A 的 Jordan 标准形\"\"\"\n",
    "\n",
    "    n = A.shape[0]\n",
    "    evs = A.eigenvects()\n",
    "    num = len(evs)\n",
    "    \n",
    "    特征值列表 = [vals[0] for vals in evs]\n",
    "    代数重数列表 = [vals[1] for vals in evs]\n",
    "    矩阵列表 = [A - r * sym.eye(n) for r in 特征值列表]\n",
    "    广义矩阵列表 = [(A - 特征值列表[i] * sym.eye(n)) ** 代数重数列表[i] for i in range(num)]\n",
    "    空间列表 = [M.nullspace() for M in 矩阵列表]\n",
    "    广义空间列表 = [M.nullspace() for M in 广义矩阵列表]\n",
    "    转换列表 = []\n",
    "    字符串 = \"\"\n",
    "    总字符串 = \"\"\n",
    "\n",
    "    if opt:\n",
    "        display(Math(r'矩阵\\ A\\ 为'))\n",
    "        display(A)\n",
    "        display(Math(r'A\\ 的特征值及其代数重数为'))\n",
    "        for k in range(num):\n",
    "            display(Math(r'\\lambda_{}={}\\quad\\quad\\quad m_{}={}'.format(k+1,特征值列表[k],k+1,代数重数列表[k])))\n",
    "    \n",
    "    for k in range(num):\n",
    "        \n",
    "        phi = 矩阵列表[k]\n",
    "        eigspace = 空间列表[k]\n",
    "        genspace = 广义空间列表[k]\n",
    "        补空间 = complementary(genspace, eigspace)\n",
    "        vij列表 = []\n",
    "        i = 1\n",
    "        \n",
    "        if opt:\n",
    "            display(Math(r'({})\\ 考虑特征值\\  \\lambda_{}={}\\ 代数重数\\ m_{}={}'\n",
    "                         .format(k+1,k+1,特征值列表[k],k+1,代数重数列表[k])))\n",
    "            display(Math(r'矩阵\\ A-({})I\\ 和\\ (A-({})I)^{}\\ 分别为'\n",
    "                         .format(特征值列表[k],特征值列表[k],代数重数列表[k])))\n",
    "            display([矩阵列表[k],广义矩阵列表[k]])\n",
    "            display(Math(r'对应的特征空间\\ E({},A)\\ 是\\ A-({})I\\ 的零空间，由以下向量张成'\n",
    "                     .format(特征值列表[k],特征值列表[k])))\n",
    "            display(eigspace)\n",
    "            display(Math(\n",
    "                r'对应的广义特征空间\\ E^g({},A)\\ 是\\ (A-({})I)^{} 的零空间，由以下向量张成'\n",
    "                     .format(特征值列表[k],特征值列表[k],代数重数列表[k])))\n",
    "            display(genspace)\n",
    "        \n",
    "        while len(补空间) > 0:\n",
    "            j = 1\n",
    "            bunch列表 = []\n",
    "            vect = 补空间[0]\n",
    "            if opt:\n",
    "                字符串 = 'v_{'+str(j)+str(i)+'}^{('+str(k+1)+')}'\n",
    "                display(Math(r'现在我们在 E^g({},A)\\ 中选择一个向量 v，但 v 不在 E({},A)，即'\n",
    "                         .format(特征值列表[k],特征值列表[k])))\n",
    "                display(vect)\n",
    "            while not is_in_space(空间列表[k], vect):\n",
    "                bunch列表.insert(0, vect)\n",
    "                vect = phi * vect \n",
    "                j = j + 1 \n",
    "                if opt:\n",
    "                    字符串 = 字符串 + r',\\ v_{'+str(j)+str(i)+'}^{('+str(k+1)+')}'\n",
    "            eigspace = complementary(eigspace, [vect])\n",
    "            补空间 = complementary(补空间, bunch列表)\n",
    "            bunch列表.insert(0, vect)     \n",
    "            vij列表.extend(bunch列表)\n",
    "            i = i + 1\n",
    "            if opt:\n",
    "                display(Math(r'不断用\\ A-({})I\\ 作用于 v（直到\\ v\\in E({},A))\\ 得到以下一系列向量'\n",
    "                             .format(特征值列表[k],特征值列表[k])))\n",
    "                display(Math(r'['+字符串+']='))\n",
    "                display(bunch列表)\n",
    "                总字符串 = 总字符串 + 字符串 + r',\\ '   \n",
    "            \n",
    "        if len(eigspace)>0:\n",
    "            vij列表.extend(eigspace)\n",
    "            if opt:\n",
    "                j = 1\n",
    "                字符串 = 'v_{'+str(j)+str(i)+'}^{('+str(k+1)+')}'\n",
    "                for js in range(len(eigspace)-1):\n",
    "                    j = j + 1\n",
    "                    字符串 = 字符串 + r',\\ v_{'+str(j)+str(i)+'}^{('+str(k+1)+')}'\n",
    "                display(Math(\n",
    "                    r'此时，我们需要找到 E({},A)\\ 中的其余元素(们)以扩展成一组基'\n",
    "                .format(特征值列表[k])))\n",
    "                display(Math(r'['+字符串+']='))\n",
    "                display(eigspace)\n",
    "                总字符串 = 总字符串 + 字符串 + r',\\ '\n",
    "                \n",
    "        转换列表.extend(vij列表)            \n",
    "        \n",
    "    P = ColumnContact(转换列表)\n",
    "    J = sym.Inverse(P)*A*P\n",
    "    if opt:\n",
    "        display(Math(r'最终，可逆矩阵\\ P=['+总字符串[:-3]+']='))\n",
    "        display(P)\n",
    "        display(Math(r'因此，Jordan 标准形为\\ J=P^{-1}AP='))\n",
    "        display(J)\n",
    "    \n",
    "    return J\n",
    "\n",
    "def JordanForm(A):\n",
    "    \"\"\"不使用分析方法计算 A 的 Jordan 标准形\"\"\"  \n",
    "    \n",
    "    return JordanForm_analysis(A, False)\n"
   ]
  },
  {
   "cell_type": "code",
   "execution_count": 19,
   "metadata": {
    "ExecuteTime": {
     "end_time": "2024-03-27T11:47:02.359525100Z",
     "start_time": "2024-03-27T11:47:02.112081600Z"
    },
    "collapsed": false,
    "jupyter": {
     "outputs_hidden": false
    }
   },
   "outputs": [
    {
     "data": {
      "text/latex": [
       "$\\displaystyle 矩阵\\ A\\ 为$"
      ],
      "text/plain": [
       "<IPython.core.display.Math object>"
      ]
     },
     "metadata": {},
     "output_type": "display_data"
    },
    {
     "data": {
      "text/latex": [
       "$\\displaystyle \\left[\\begin{matrix}4 & -1 & -3 & 2\\\\4 & -2 & -4 & 4\\\\-4 & 4 & 6 & -4\\\\-6 & 5 & 7 & -4\\end{matrix}\\right]$"
      ],
      "text/plain": [
       "⎡4   -1  -3  2 ⎤\n",
       "⎢              ⎥\n",
       "⎢4   -2  -4  4 ⎥\n",
       "⎢              ⎥\n",
       "⎢-4  4   6   -4⎥\n",
       "⎢              ⎥\n",
       "⎣-6  5   7   -4⎦"
      ]
     },
     "metadata": {},
     "output_type": "display_data"
    },
    {
     "data": {
      "text/latex": [
       "$\\displaystyle A\\ 的特征值及其代数重数为$"
      ],
      "text/plain": [
       "<IPython.core.display.Math object>"
      ]
     },
     "metadata": {},
     "output_type": "display_data"
    },
    {
     "data": {
      "text/latex": [
       "$\\displaystyle \\lambda_1=-2\\quad\\quad\\quad m_1=1$"
      ],
      "text/plain": [
       "<IPython.core.display.Math object>"
      ]
     },
     "metadata": {},
     "output_type": "display_data"
    },
    {
     "data": {
      "text/latex": [
       "$\\displaystyle \\lambda_2=2\\quad\\quad\\quad m_2=3$"
      ],
      "text/plain": [
       "<IPython.core.display.Math object>"
      ]
     },
     "metadata": {},
     "output_type": "display_data"
    },
    {
     "data": {
      "text/latex": [
       "$\\displaystyle (1)\\ 考虑特征值\\  \\lambda_1=-2\\ 代数重数\\ m_1=1$"
      ],
      "text/plain": [
       "<IPython.core.display.Math object>"
      ]
     },
     "metadata": {},
     "output_type": "display_data"
    },
    {
     "data": {
      "text/latex": [
       "$\\displaystyle 矩阵\\ A-(-2)I\\ 和\\ (A-(-2)I)^1\\ 分别为$"
      ],
      "text/plain": [
       "<IPython.core.display.Math object>"
      ]
     },
     "metadata": {},
     "output_type": "display_data"
    },
    {
     "data": {
      "text/latex": [
       "$\\displaystyle \\left[ \\left[\\begin{matrix}6 & -1 & -3 & 2\\\\4 & 0 & -4 & 4\\\\-4 & 4 & 8 & -4\\\\-6 & 5 & 7 & -2\\end{matrix}\\right], \\  \\left[\\begin{matrix}6 & -1 & -3 & 2\\\\4 & 0 & -4 & 4\\\\-4 & 4 & 8 & -4\\\\-6 & 5 & 7 & -2\\end{matrix}\\right]\\right]$"
      ],
      "text/plain": [
       "⎡⎡6   -1  -3  2 ⎤  ⎡6   -1  -3  2 ⎤⎤\n",
       "⎢⎢              ⎥  ⎢              ⎥⎥\n",
       "⎢⎢4   0   -4  4 ⎥  ⎢4   0   -4  4 ⎥⎥\n",
       "⎢⎢              ⎥, ⎢              ⎥⎥\n",
       "⎢⎢-4  4   8   -4⎥  ⎢-4  4   8   -4⎥⎥\n",
       "⎢⎢              ⎥  ⎢              ⎥⎥\n",
       "⎣⎣-6  5   7   -2⎦  ⎣-6  5   7   -2⎦⎦"
      ]
     },
     "metadata": {},
     "output_type": "display_data"
    },
    {
     "data": {
      "text/latex": [
       "$\\displaystyle 对应的特征空间\\ E(-2,A)\\ 是\\ A-(-2)I\\ 的零空间，由以下向量张成$"
      ],
      "text/plain": [
       "<IPython.core.display.Math object>"
      ]
     },
     "metadata": {},
     "output_type": "display_data"
    },
    {
     "data": {
      "text/latex": [
       "$\\displaystyle \\left[ \\left[\\begin{matrix}0\\\\-1\\\\1\\\\1\\end{matrix}\\right]\\right]$"
      ],
      "text/plain": [
       "⎡⎡0 ⎤⎤\n",
       "⎢⎢  ⎥⎥\n",
       "⎢⎢-1⎥⎥\n",
       "⎢⎢  ⎥⎥\n",
       "⎢⎢1 ⎥⎥\n",
       "⎢⎢  ⎥⎥\n",
       "⎣⎣1 ⎦⎦"
      ]
     },
     "metadata": {},
     "output_type": "display_data"
    },
    {
     "data": {
      "text/latex": [
       "$\\displaystyle 对应的广义特征空间\\ E^g(-2,A)\\ 是\\ (A-(-2)I)^1 的零空间，由以下向量张成$"
      ],
      "text/plain": [
       "<IPython.core.display.Math object>"
      ]
     },
     "metadata": {},
     "output_type": "display_data"
    },
    {
     "data": {
      "text/latex": [
       "$\\displaystyle \\left[ \\left[\\begin{matrix}0\\\\-1\\\\1\\\\1\\end{matrix}\\right]\\right]$"
      ],
      "text/plain": [
       "⎡⎡0 ⎤⎤\n",
       "⎢⎢  ⎥⎥\n",
       "⎢⎢-1⎥⎥\n",
       "⎢⎢  ⎥⎥\n",
       "⎢⎢1 ⎥⎥\n",
       "⎢⎢  ⎥⎥\n",
       "⎣⎣1 ⎦⎦"
      ]
     },
     "metadata": {},
     "output_type": "display_data"
    },
    {
     "data": {
      "text/latex": [
       "$\\displaystyle 此时，我们需要找到 E(-2,A)\\ 中的其余元素(们)以扩展成一组基$"
      ],
      "text/plain": [
       "<IPython.core.display.Math object>"
      ]
     },
     "metadata": {},
     "output_type": "display_data"
    },
    {
     "data": {
      "text/latex": [
       "$\\displaystyle [v_{11}^{(1)}]=$"
      ],
      "text/plain": [
       "<IPython.core.display.Math object>"
      ]
     },
     "metadata": {},
     "output_type": "display_data"
    },
    {
     "data": {
      "text/latex": [
       "$\\displaystyle \\left[ \\left[\\begin{matrix}0\\\\-1\\\\1\\\\1\\end{matrix}\\right]\\right]$"
      ],
      "text/plain": [
       "⎡⎡0 ⎤⎤\n",
       "⎢⎢  ⎥⎥\n",
       "⎢⎢-1⎥⎥\n",
       "⎢⎢  ⎥⎥\n",
       "⎢⎢1 ⎥⎥\n",
       "⎢⎢  ⎥⎥\n",
       "⎣⎣1 ⎦⎦"
      ]
     },
     "metadata": {},
     "output_type": "display_data"
    },
    {
     "data": {
      "text/latex": [
       "$\\displaystyle (2)\\ 考虑特征值\\  \\lambda_2=2\\ 代数重数\\ m_2=3$"
      ],
      "text/plain": [
       "<IPython.core.display.Math object>"
      ]
     },
     "metadata": {},
     "output_type": "display_data"
    },
    {
     "data": {
      "text/latex": [
       "$\\displaystyle 矩阵\\ A-(2)I\\ 和\\ (A-(2)I)^3\\ 分别为$"
      ],
      "text/plain": [
       "<IPython.core.display.Math object>"
      ]
     },
     "metadata": {},
     "output_type": "display_data"
    },
    {
     "data": {
      "text/latex": [
       "$\\displaystyle \\left[ \\left[\\begin{matrix}2 & -1 & -3 & 2\\\\4 & -4 & -4 & 4\\\\-4 & 4 & 4 & -4\\\\-6 & 5 & 7 & -6\\end{matrix}\\right], \\  \\left[\\begin{matrix}0 & 0 & 0 & 0\\\\64 & -64 & -64 & 64\\\\-64 & 64 & 64 & -64\\\\-64 & 64 & 64 & -64\\end{matrix}\\right]\\right]$"
      ],
      "text/plain": [
       "⎡⎡2   -1  -3  2 ⎤  ⎡ 0    0    0    0 ⎤⎤\n",
       "⎢⎢              ⎥  ⎢                  ⎥⎥\n",
       "⎢⎢4   -4  -4  4 ⎥  ⎢64   -64  -64  64 ⎥⎥\n",
       "⎢⎢              ⎥, ⎢                  ⎥⎥\n",
       "⎢⎢-4  4   4   -4⎥  ⎢-64  64   64   -64⎥⎥\n",
       "⎢⎢              ⎥  ⎢                  ⎥⎥\n",
       "⎣⎣-6  5   7   -6⎦  ⎣-64  64   64   -64⎦⎦"
      ]
     },
     "metadata": {},
     "output_type": "display_data"
    },
    {
     "data": {
      "text/latex": [
       "$\\displaystyle 对应的特征空间\\ E(2,A)\\ 是\\ A-(2)I\\ 的零空间，由以下向量张成$"
      ],
      "text/plain": [
       "<IPython.core.display.Math object>"
      ]
     },
     "metadata": {},
     "output_type": "display_data"
    },
    {
     "data": {
      "text/latex": [
       "$\\displaystyle \\left[ \\left[\\begin{matrix}2\\\\1\\\\1\\\\0\\end{matrix}\\right], \\  \\left[\\begin{matrix}-1\\\\0\\\\0\\\\1\\end{matrix}\\right]\\right]$"
      ],
      "text/plain": [
       "⎡⎡2⎤  ⎡-1⎤⎤\n",
       "⎢⎢ ⎥  ⎢  ⎥⎥\n",
       "⎢⎢1⎥  ⎢0 ⎥⎥\n",
       "⎢⎢ ⎥, ⎢  ⎥⎥\n",
       "⎢⎢1⎥  ⎢0 ⎥⎥\n",
       "⎢⎢ ⎥  ⎢  ⎥⎥\n",
       "⎣⎣0⎦  ⎣1 ⎦⎦"
      ]
     },
     "metadata": {},
     "output_type": "display_data"
    },
    {
     "data": {
      "text/latex": [
       "$\\displaystyle 对应的广义特征空间\\ E^g(2,A)\\ 是\\ (A-(2)I)^3 的零空间，由以下向量张成$"
      ],
      "text/plain": [
       "<IPython.core.display.Math object>"
      ]
     },
     "metadata": {},
     "output_type": "display_data"
    },
    {
     "data": {
      "text/latex": [
       "$\\displaystyle \\left[ \\left[\\begin{matrix}1\\\\1\\\\0\\\\0\\end{matrix}\\right], \\  \\left[\\begin{matrix}1\\\\0\\\\1\\\\0\\end{matrix}\\right], \\  \\left[\\begin{matrix}-1\\\\0\\\\0\\\\1\\end{matrix}\\right]\\right]$"
      ],
      "text/plain": [
       "⎡⎡1⎤  ⎡1⎤  ⎡-1⎤⎤\n",
       "⎢⎢ ⎥  ⎢ ⎥  ⎢  ⎥⎥\n",
       "⎢⎢1⎥  ⎢0⎥  ⎢0 ⎥⎥\n",
       "⎢⎢ ⎥, ⎢ ⎥, ⎢  ⎥⎥\n",
       "⎢⎢0⎥  ⎢1⎥  ⎢0 ⎥⎥\n",
       "⎢⎢ ⎥  ⎢ ⎥  ⎢  ⎥⎥\n",
       "⎣⎣0⎦  ⎣0⎦  ⎣1 ⎦⎦"
      ]
     },
     "metadata": {},
     "output_type": "display_data"
    },
    {
     "data": {
      "text/latex": [
       "$\\displaystyle 现在我们在 E^g(2,A)\\ 中选择一个向量 v，但 v 不在 E(2,A)，即$"
      ],
      "text/plain": [
       "<IPython.core.display.Math object>"
      ]
     },
     "metadata": {},
     "output_type": "display_data"
    },
    {
     "data": {
      "text/latex": [
       "$\\displaystyle \\left[\\begin{matrix}1\\\\1\\\\0\\\\0\\end{matrix}\\right]$"
      ],
      "text/plain": [
       "⎡1⎤\n",
       "⎢ ⎥\n",
       "⎢1⎥\n",
       "⎢ ⎥\n",
       "⎢0⎥\n",
       "⎢ ⎥\n",
       "⎣0⎦"
      ]
     },
     "metadata": {},
     "output_type": "display_data"
    },
    {
     "data": {
      "text/latex": [
       "$\\displaystyle 不断用\\ A-(2)I\\ 作用于 v（直到\\ v\\in E(2,A))\\ 得到以下一系列向量$"
      ],
      "text/plain": [
       "<IPython.core.display.Math object>"
      ]
     },
     "metadata": {},
     "output_type": "display_data"
    },
    {
     "data": {
      "text/latex": [
       "$\\displaystyle [v_{11}^{(2)},\\ v_{21}^{(2)}]=$"
      ],
      "text/plain": [
       "<IPython.core.display.Math object>"
      ]
     },
     "metadata": {},
     "output_type": "display_data"
    },
    {
     "data": {
      "text/latex": [
       "$\\displaystyle \\left[ \\left[\\begin{matrix}1\\\\0\\\\0\\\\-1\\end{matrix}\\right], \\  \\left[\\begin{matrix}1\\\\1\\\\0\\\\0\\end{matrix}\\right]\\right]$"
      ],
      "text/plain": [
       "⎡⎡1 ⎤  ⎡1⎤⎤\n",
       "⎢⎢  ⎥  ⎢ ⎥⎥\n",
       "⎢⎢0 ⎥  ⎢1⎥⎥\n",
       "⎢⎢  ⎥, ⎢ ⎥⎥\n",
       "⎢⎢0 ⎥  ⎢0⎥⎥\n",
       "⎢⎢  ⎥  ⎢ ⎥⎥\n",
       "⎣⎣-1⎦  ⎣0⎦⎦"
      ]
     },
     "metadata": {},
     "output_type": "display_data"
    },
    {
     "data": {
      "text/latex": [
       "$\\displaystyle 此时，我们需要找到 E(2,A)\\ 中的其余元素(们)以扩展成一组基$"
      ],
      "text/plain": [
       "<IPython.core.display.Math object>"
      ]
     },
     "metadata": {},
     "output_type": "display_data"
    },
    {
     "data": {
      "text/latex": [
       "$\\displaystyle [v_{12}^{(2)}]=$"
      ],
      "text/plain": [
       "<IPython.core.display.Math object>"
      ]
     },
     "metadata": {},
     "output_type": "display_data"
    },
    {
     "data": {
      "text/latex": [
       "$\\displaystyle \\left[ \\left[\\begin{matrix}2\\\\1\\\\1\\\\0\\end{matrix}\\right]\\right]$"
      ],
      "text/plain": [
       "⎡⎡2⎤⎤\n",
       "⎢⎢ ⎥⎥\n",
       "⎢⎢1⎥⎥\n",
       "⎢⎢ ⎥⎥\n",
       "⎢⎢1⎥⎥\n",
       "⎢⎢ ⎥⎥\n",
       "⎣⎣0⎦⎦"
      ]
     },
     "metadata": {},
     "output_type": "display_data"
    },
    {
     "data": {
      "text/latex": [
       "$\\displaystyle 最终，可逆矩阵\\ P=[v_{11}^{(1)},\\ v_{11}^{(2)},\\ v_{21}^{(2)},\\ v_{12}^{(2)}]=$"
      ],
      "text/plain": [
       "<IPython.core.display.Math object>"
      ]
     },
     "metadata": {},
     "output_type": "display_data"
    },
    {
     "data": {
      "text/latex": [
       "$\\displaystyle \\left[\\begin{matrix}0 & 1 & 1 & 2\\\\-1 & 0 & 1 & 1\\\\1 & 0 & 0 & 1\\\\1 & -1 & 0 & 0\\end{matrix}\\right]$"
      ],
      "text/plain": [
       "⎡0   1   1  2⎤\n",
       "⎢            ⎥\n",
       "⎢-1  0   1  1⎥\n",
       "⎢            ⎥\n",
       "⎢1   0   0  1⎥\n",
       "⎢            ⎥\n",
       "⎣1   -1  0  0⎦"
      ]
     },
     "metadata": {},
     "output_type": "display_data"
    },
    {
     "data": {
      "text/latex": [
       "$\\displaystyle 因此，Jordan 标准形为\\ J=P^{-1}AP=$"
      ],
      "text/plain": [
       "<IPython.core.display.Math object>"
      ]
     },
     "metadata": {},
     "output_type": "display_data"
    },
    {
     "data": {
      "text/latex": [
       "$\\displaystyle \\left[\\begin{matrix}-2 & 0 & 0 & 0\\\\0 & 2 & 1 & 0\\\\0 & 0 & 2 & 0\\\\0 & 0 & 0 & 2\\end{matrix}\\right]$"
      ],
      "text/plain": [
       "⎡-2  0  0  0⎤\n",
       "⎢           ⎥\n",
       "⎢0   2  1  0⎥\n",
       "⎢           ⎥\n",
       "⎢0   0  2  0⎥\n",
       "⎢           ⎥\n",
       "⎣0   0  0  2⎦"
      ]
     },
     "metadata": {},
     "output_type": "display_data"
    }
   ],
   "source": [
    "# 在这里指定矩阵 A\n",
    "A = sym.Matrix([[4,-1,-3,2],[4,-2,-4,4],[-4,4,6,-4],[-6,5,7,-4]])\n",
    "\n",
    "J = JordanForm_analysis(A,True)"
   ]
  },
  {
   "cell_type": "code",
   "execution_count": 19,
   "metadata": {
    "ExecuteTime": {
     "end_time": "2024-03-27T11:47:02.359525100Z",
     "start_time": "2024-03-27T11:47:02.359014200Z"
    },
    "collapsed": false,
    "jupyter": {
     "outputs_hidden": false
    }
   },
   "outputs": [],
   "source": []
  }
 ],
 "metadata": {
  "kernelspec": {
   "display_name": "Python 3 (ipykernel)",
   "language": "python",
   "name": "python3"
  },
  "language_info": {
   "codemirror_mode": {
    "name": "ipython",
    "version": 3
   },
   "file_extension": ".py",
   "mimetype": "text/x-python",
   "name": "python",
   "nbconvert_exporter": "python",
   "pygments_lexer": "ipython3",
   "version": "3.12.0"
  }
 },
 "nbformat": 4,
 "nbformat_minor": 4
}
